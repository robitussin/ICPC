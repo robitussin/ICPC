{
  "nbformat": 4,
  "nbformat_minor": 0,
  "metadata": {
    "colab": {
      "provenance": []
    },
    "kernelspec": {
      "name": "python3",
      "display_name": "Python 3"
    },
    "language_info": {
      "name": "python"
    }
  },
  "cells": [
    {
      "cell_type": "markdown",
      "source": [
        "You are given a weighted tree with $n$ vertices. Recall that a tree is a connected graph without any cycles. A weighted tree is a tree in which each edge has a certain weight. The tree is undirected, it doesn't have a root.\n",
        "\n",
        "In a move, you can travel from a node to one of its neighbors (another node it has a direct edge with).\n",
        "\n",
        "You start with a variable $x$ which is initially equal to $0$. When you pass through edge $i$, $x$ changes its value to $x$ XOR $w_{i}$ (where $w_{i}$ is the weight of the $i$-th edge).\n",
        "\n",
        "Your task is to go from vertex $a$ to vertex $b$, but you are allowed to enter node $b$ if and only if after traveling to it, the value of $x$ will become $0$. In other words, you can travel to node $b$ only by using an edge $i$ such that $x$ XOR $w_{i}$=0. Once you enter node $b$ the game ends and you win.\n",
        "\n",
        "Additionally, you can teleport at most once at any point in time to any vertex except vertex $b$. You can teleport from any vertex, even from $a$.\n",
        "\n",
        "Answer with \"YES\" if you can reach vertex $b$ from $a$, and \"NO\" otherwise.\n",
        "\n",
        "Note that XOR represents the bitwise XOR operation.\n",
        "\n",
        "**Input**\n",
        "\n",
        "\n",
        "\n",
        "The first line contains a single integer t ($1$  ≤ $t$  ≤ $1000$ ) — the number of test cases.\n",
        "\n",
        "The first line of each test case contains three integers $n$, $a$, and $b$ ($2$ ≤ $n$ ≤ $10^{5}$), ($1$  ≤ $a$ , $b$ ≤ $n$ ; $a$  ≠ $b$ ) — the number of vertices, and the starting and desired ending node respectively.\n",
        "\n",
        "Each of the next $n-1$ lines denotes an edge of the tree. Edge $i$ is denoted by three integers $u_{i}$, $v_{i}$ and $w_{i}$  — the labels of vertices it connects ($1$ ≤ $u_{i}$, $v_{i}$ ≤ $n$ ; $u_{i}$ ≠ $v_{i}$ ; $1$  ≤ $w_{i}$ ≤ $10^{9}$) and the weight of the respective edge.\n",
        "\n",
        "It is guaranteed that the sum of $n$ over all test cases does not exceed $10^{5}$.\n",
        "\n",
        "**Output**\n",
        "\n",
        "For each test case output \"YES\" if you can reach vertex $b$, and \"NO\" otherwise."
      ],
      "metadata": {
        "id": "C5Ta0fE80w4u"
      }
    },
    {
      "cell_type": "code",
      "source": [],
      "metadata": {
        "id": "kSEvb14X0z2u"
      },
      "execution_count": null,
      "outputs": []
    }
  ]
}