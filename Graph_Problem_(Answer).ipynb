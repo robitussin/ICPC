{
  "nbformat": 4,
  "nbformat_minor": 0,
  "metadata": {
    "colab": {
      "provenance": []
    },
    "kernelspec": {
      "name": "python3",
      "display_name": "Python 3"
    },
    "language_info": {
      "name": "python"
    }
  },
  "cells": [
    {
      "cell_type": "markdown",
      "source": [
        "5 1 4\n",
        "\n",
        "1 3 1\n",
        "\n",
        "2 3 2\n",
        "\n",
        "4 3 3\n",
        "\n",
        "3 5 1"
      ],
      "metadata": {
        "id": "y7-Bsr1ozBQo"
      }
    },
    {
      "cell_type": "code",
      "execution_count": null,
      "metadata": {
        "id": "aFocOdWbxXlj"
      },
      "outputs": [],
      "source": [
        "stack = []\n",
        "hashesSt = set()\n",
        " \n",
        "n, st, fi = map(int, input().split())\n",
        "st -= 1\n",
        "fi -= 1\n",
        "\n",
        "g = [[] for i in range(n)]\n",
        "\n",
        "for i in range(n - 1):\n",
        "  a, b, w = map(int, input().split())\n",
        "  a -= 1\n",
        "  b -= 1\n",
        "  g[a].append((b, w))\n",
        "  g[b].append((a, w))\n",
        "  \n",
        "hashesSt.clear()"
      ]
    },
    {
      "cell_type": "code",
      "source": [
        "used = [False] * n\n",
        "used[fi] = True\n",
        "stack.append((st, 0))"
      ],
      "metadata": {
        "id": "5dEjhmqgyn2A"
      },
      "execution_count": null,
      "outputs": []
    },
    {
      "cell_type": "code",
      "source": [
        "while stack:\n",
        "  ver, hsh = stack.pop()\n",
        "  used[ver] = True\n",
        "  hashesSt.add(hsh)\n",
        "  for to, w in g[ver]:\n",
        "    if not used[to]:\n",
        "      stack.append((to, hsh ^ w))"
      ],
      "metadata": {
        "id": "MrksOqQRyvPj"
      },
      "execution_count": null,
      "outputs": []
    },
    {
      "cell_type": "code",
      "source": [
        "used = [False] * n\n",
        "stack.append((fi, 0))\n",
        "found = False"
      ],
      "metadata": {
        "id": "1V8m7FvzytWh"
      },
      "execution_count": null,
      "outputs": []
    },
    {
      "cell_type": "code",
      "source": [
        "while stack:\n",
        "  ver, hsh = stack.pop()\n",
        "  used[ver] = True\n",
        "  if ver != fi and hsh in hashesSt:\n",
        "    stack.clear()\n",
        "    found = True\n",
        "    break\n",
        "  for to, w in g[ver]:\n",
        "    if not used[to]:\n",
        "      stack.append((to, hsh ^ w))"
      ],
      "metadata": {
        "id": "nBeH0IwGyzON"
      },
      "execution_count": null,
      "outputs": []
    },
    {
      "cell_type": "code",
      "source": [
        "print(\"YES\" if found else \"NO\")"
      ],
      "metadata": {
        "colab": {
          "base_uri": "https://localhost:8080/"
        },
        "id": "j5RBhlQ1y1ka",
        "outputId": "8f9cae85-ba11-47a3-a516-1434adbd9576"
      },
      "execution_count": null,
      "outputs": [
        {
          "output_type": "stream",
          "name": "stdout",
          "text": [
            "YES\n"
          ]
        }
      ]
    }
  ]
}