{
  "nbformat": 4,
  "nbformat_minor": 0,
  "metadata": {
    "colab": {
      "provenance": []
    },
    "kernelspec": {
      "name": "python3",
      "display_name": "Python 3"
    },
    "language_info": {
      "name": "python"
    }
  },
  "cells": [
    {
      "cell_type": "markdown",
      "source": [
        "5 1 4\n",
        "\n",
        "1 3 1\n",
        "\n",
        "2 3 2\n",
        "\n",
        "4 3 3\n",
        "\n",
        "3 5 1"
      ],
      "metadata": {
        "id": "yA2ugzISavqU"
      }
    },
    {
      "cell_type": "code",
      "execution_count": null,
      "metadata": {
        "colab": {
          "base_uri": "https://localhost:8080/"
        },
        "id": "UYLhqRqiWEMg",
        "outputId": "3a746a25-12bb-487e-debc-546d3c73a0b8"
      },
      "outputs": [
        {
          "name": "stdout",
          "output_type": "stream",
          "text": [
            "5 1 4\n"
          ]
        }
      ],
      "source": [
        "stack = []\n",
        "hashesSt = set()\n",
        " \n",
        "n, start, finish = map(int, input().split())\n",
        "start -= 1\n",
        "finish -= 1\n"
      ]
    },
    {
      "cell_type": "code",
      "source": [
        "g = [[] for i in range(n)]\n",
        "\n",
        "for i in range(n - 1):\n",
        "  a, b, weight = map(int, input().split())\n",
        "  a -= 1\n",
        "  b -= 1\n",
        "  g[a].append((b, weight))\n",
        "  g[b].append((a, weight))\n",
        "  \n",
        "hashesSt.clear()"
      ],
      "metadata": {
        "colab": {
          "base_uri": "https://localhost:8080/"
        },
        "id": "Zh_o5wmtW8gx",
        "outputId": "343b82cd-4672-45da-ee23-808e1b58bfa8"
      },
      "execution_count": null,
      "outputs": [
        {
          "name": "stdout",
          "output_type": "stream",
          "text": [
            "1 3 1\n",
            "2 3 2\n",
            "4 3 3\n",
            "3 5 1\n"
          ]
        }
      ]
    },
    {
      "cell_type": "code",
      "source": [
        "print(g)"
      ],
      "metadata": {
        "colab": {
          "base_uri": "https://localhost:8080/"
        },
        "id": "3qRsGYWZa_rc",
        "outputId": "c10c83b8-c3d6-4b2d-ea8b-527a408be640"
      },
      "execution_count": null,
      "outputs": [
        {
          "output_type": "stream",
          "name": "stdout",
          "text": [
            "[[(2, 1)], [(2, 2)], [(0, 1), (1, 2), (3, 3), (4, 1)], [(2, 3)], [(2, 1)]]\n"
          ]
        }
      ]
    },
    {
      "cell_type": "code",
      "source": [
        "visited = [False] * n\n",
        "visited[finish] = True\n",
        "stack.append((start, 0))"
      ],
      "metadata": {
        "id": "sGzWjm0rXQqo"
      },
      "execution_count": null,
      "outputs": []
    },
    {
      "cell_type": "code",
      "source": [
        "print(stack)"
      ],
      "metadata": {
        "colab": {
          "base_uri": "https://localhost:8080/"
        },
        "id": "3aM4pjABhkNS",
        "outputId": "e6ea29c4-bc21-4cc6-aac3-31e2413d0df5"
      },
      "execution_count": null,
      "outputs": [
        {
          "output_type": "stream",
          "name": "stdout",
          "text": [
            "[(0, 0)]\n"
          ]
        }
      ]
    },
    {
      "cell_type": "code",
      "source": [
        "print(visited)"
      ],
      "metadata": {
        "colab": {
          "base_uri": "https://localhost:8080/"
        },
        "id": "lF9FPSLNhnYJ",
        "outputId": "3043882d-836f-4111-b604-f300cd6cb6dd"
      },
      "execution_count": null,
      "outputs": [
        {
          "output_type": "stream",
          "name": "stdout",
          "text": [
            "[False, False, False, True, False]\n"
          ]
        }
      ]
    },
    {
      "cell_type": "code",
      "source": [
        "while stack:\n",
        "  print(\"currentstack:\", stack)\n",
        "  vertex, hsh = stack.pop()\n",
        "  print(\"current vertex: \" , vertex)\n",
        "  print(\"hsh: \" , hsh)\n",
        "  visited[vertex] = True\n",
        "  hashesSt.add(hsh)\n",
        "  print(g[vertex])\n",
        "  \n",
        "  for to, w in g[vertex]:\n",
        "    print(\"to vertex:\",  to)\n",
        "    print(\"w:\" , w)\n",
        "    print(\"is visited?: \" , visited[to])\n",
        "    if not visited[to]:\n",
        "      stack.append((to, hsh ^ w))"
      ],
      "metadata": {
        "colab": {
          "base_uri": "https://localhost:8080/"
        },
        "id": "jYPnGANlhZtW",
        "outputId": "6f628381-d911-45d3-e457-eb974a7c164f"
      },
      "execution_count": null,
      "outputs": [
        {
          "output_type": "stream",
          "name": "stdout",
          "text": [
            "currentstack: [(0, 0)]\n",
            "current vertex:  0\n",
            "hsh:  0\n",
            "[(2, 1)]\n",
            "to vertex: 2\n",
            "w: 1\n",
            "is visited?:  False\n",
            "currentstack: [(2, 1)]\n",
            "current vertex:  2\n",
            "hsh:  1\n",
            "[(0, 1), (1, 2), (3, 3), (4, 1)]\n",
            "to vertex: 0\n",
            "w: 1\n",
            "is visited?:  True\n",
            "to vertex: 1\n",
            "w: 2\n",
            "is visited?:  False\n",
            "to vertex: 3\n",
            "w: 3\n",
            "is visited?:  True\n",
            "to vertex: 4\n",
            "w: 1\n",
            "is visited?:  False\n",
            "currentstack: [(1, 3), (4, 0)]\n",
            "current vertex:  4\n",
            "hsh:  0\n",
            "[(2, 1)]\n",
            "to vertex: 2\n",
            "w: 1\n",
            "is visited?:  True\n",
            "currentstack: [(1, 3)]\n",
            "current vertex:  1\n",
            "hsh:  3\n",
            "[(2, 2)]\n",
            "to vertex: 2\n",
            "w: 2\n",
            "is visited?:  True\n"
          ]
        }
      ]
    },
    {
      "cell_type": "code",
      "source": [
        "print(stack)"
      ],
      "metadata": {
        "colab": {
          "base_uri": "https://localhost:8080/"
        },
        "id": "Z5ULkoMibOwC",
        "outputId": "88d36bad-3106-41cb-b287-8f3e3d1b41c0"
      },
      "execution_count": null,
      "outputs": [
        {
          "output_type": "stream",
          "name": "stdout",
          "text": [
            "[]\n"
          ]
        }
      ]
    },
    {
      "cell_type": "code",
      "source": [
        "print(used)"
      ],
      "metadata": {
        "colab": {
          "base_uri": "https://localhost:8080/"
        },
        "id": "pECCAcvWcOke",
        "outputId": "659dfe21-c2b2-4af9-bcfd-8231651f7d86"
      },
      "execution_count": null,
      "outputs": [
        {
          "output_type": "stream",
          "name": "stdout",
          "text": [
            "[False, False, False, False, False]\n"
          ]
        }
      ]
    },
    {
      "cell_type": "code",
      "source": [
        "print(hashesSt)"
      ],
      "metadata": {
        "colab": {
          "base_uri": "https://localhost:8080/"
        },
        "id": "2zVEb_TvcSXr",
        "outputId": "121cf8c4-7754-400e-b854-c227dbd97bde"
      },
      "execution_count": null,
      "outputs": [
        {
          "output_type": "stream",
          "name": "stdout",
          "text": [
            "{0, 1, 3}\n"
          ]
        }
      ]
    },
    {
      "cell_type": "code",
      "source": [
        "visited = [False] * n\n",
        "stack.append((finish, 0))\n",
        "found = False\n"
      ],
      "metadata": {
        "id": "IybVCPx_XUxe"
      },
      "execution_count": null,
      "outputs": []
    },
    {
      "cell_type": "code",
      "source": [
        "while stack:\n",
        "  print(\"current stack:\", stack)\n",
        "  vertex, hsh = stack.pop()\n",
        "  print(\"current vertex: \" , vertex)\n",
        "  print(\"hsh: \" , hsh)\n",
        "  visited[vertex] = True\n",
        "\n",
        "  if vertex != finish and hsh in hashesSt:\n",
        "    stack.clear()\n",
        "    found = True\n",
        "    break\n",
        "\n",
        "  print(g[vertex])\n",
        "\n",
        "  for to, w2 in g[vertex]:\n",
        "    print(\"to vertex:\",  to)\n",
        "    print(\"weight:\" , w)\n",
        "    print(\"is visited?: \" , visited[to])\n",
        "    \n",
        "    if not visited[to]:\n",
        "      stack.append((to, hsh ^ w))\n"
      ],
      "metadata": {
        "colab": {
          "base_uri": "https://localhost:8080/"
        },
        "id": "ObdLkXPEtx2M",
        "outputId": "44590e3f-c4c4-4a1a-bd3b-bb5d38c342ce"
      },
      "execution_count": null,
      "outputs": [
        {
          "output_type": "stream",
          "name": "stdout",
          "text": [
            "current stack: [(3, 0)]\n",
            "current vertex:  3\n",
            "hsh:  0\n",
            "[(2, 3)]\n",
            "to vertex: 2\n",
            "weight: 2\n",
            "is visited?:  False\n",
            "current stack: [(2, 2)]\n",
            "current vertex:  2\n",
            "hsh:  2\n",
            "[(0, 1), (1, 2), (3, 3), (4, 1)]\n",
            "to vertex: 0\n",
            "weight: 2\n",
            "is visited?:  False\n",
            "to vertex: 1\n",
            "weight: 2\n",
            "is visited?:  False\n",
            "to vertex: 3\n",
            "weight: 2\n",
            "is visited?:  True\n",
            "to vertex: 4\n",
            "weight: 2\n",
            "is visited?:  False\n",
            "current stack: [(0, 0), (1, 0), (4, 0)]\n",
            "current vertex:  4\n",
            "hsh:  0\n"
          ]
        }
      ]
    },
    {
      "cell_type": "code",
      "source": [
        "print(\"YES\" if found else \"NO\")"
      ],
      "metadata": {
        "colab": {
          "base_uri": "https://localhost:8080/"
        },
        "id": "42lj-b0sc3YV",
        "outputId": "09699943-4fb8-4aa9-d1c7-1ce93294a2d1"
      },
      "execution_count": null,
      "outputs": [
        {
          "output_type": "stream",
          "name": "stdout",
          "text": [
            "YES\n"
          ]
        }
      ]
    }
  ]
}